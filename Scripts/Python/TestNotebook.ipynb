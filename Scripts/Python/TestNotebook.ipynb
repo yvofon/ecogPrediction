{
 "metadata": {
  "name": "",
  "signature": "sha256:178e06c0ee36484df2e330579dc9d2fae78bf14fc3d706b8275a2647f97e320a"
 },
 "nbformat": 3,
 "nbformat_minor": 0,
 "worksheets": [
  {
   "cells": [
    {
     "cell_type": "code",
     "collapsed": false,
     "input": [
      "import pylab\n",
      "import pandas\n",
      "import math\n",
      "import numpy"
     ],
     "language": "python",
     "metadata": {},
     "outputs": [],
     "prompt_number": 1
    },
    {
     "cell_type": "code",
     "collapsed": false,
     "input": [],
     "language": "python",
     "metadata": {},
     "outputs": []
    }
   ],
   "metadata": {}
  }
 ]
}