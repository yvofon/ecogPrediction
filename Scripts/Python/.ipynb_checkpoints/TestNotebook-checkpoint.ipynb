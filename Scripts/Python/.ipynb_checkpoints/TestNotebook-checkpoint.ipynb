{
 "metadata": {
  "name": "",
  "signature": "sha256:477b484a6eb636bb8d302838671c6b9fab410d67760c8efc3d97b655855a4aa1"
 },
 "nbformat": 3,
 "nbformat_minor": 0,
 "worksheets": []
}